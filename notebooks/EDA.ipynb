{
 "cells": [
  {
   "cell_type": "markdown",
   "id": "5540e4d5",
   "metadata": {},
   "source": [
    "# Exploratory Data Analysis"
   ]
  },
  {
   "cell_type": "code",
   "execution_count": 2,
   "id": "9f85f5f6",
   "metadata": {},
   "outputs": [],
   "source": [
    "import warnings\n",
    "warnings.filterwarnings('ignore')\n",
    "import matplotlib.pyplot as plt\n",
    "import seaborn as sns\n",
    "from gensim import corpora\n",
    "import pandas as pd\n",
    "import statistics\n",
    "import string\n",
    "import os\n",
    "import re\n",
    "import sys\n",
    "import inspect\n",
    "import numpy as np\n",
    "import pandas as pd"
   ]
  },
  {
   "cell_type": "code",
   "execution_count": 4,
   "id": "8069f40b",
   "metadata": {},
   "outputs": [
    {
     "data": {
      "text/html": [
       "<div>\n",
       "<style scoped>\n",
       "    .dataframe tbody tr th:only-of-type {\n",
       "        vertical-align: middle;\n",
       "    }\n",
       "\n",
       "    .dataframe tbody tr th {\n",
       "        vertical-align: top;\n",
       "    }\n",
       "\n",
       "    .dataframe thead th {\n",
       "        text-align: right;\n",
       "    }\n",
       "</style>\n",
       "<table border=\"1\" class=\"dataframe\">\n",
       "  <thead>\n",
       "    <tr style=\"text-align: right;\">\n",
       "      <th></th>\n",
       "      <th>created_at</th>\n",
       "      <th>source</th>\n",
       "      <th>full_text</th>\n",
       "      <th>sentiment</th>\n",
       "      <th>polarity</th>\n",
       "      <th>subjectivity</th>\n",
       "      <th>lang</th>\n",
       "      <th>statuses_count</th>\n",
       "      <th>favorite_count</th>\n",
       "      <th>retweet_count</th>\n",
       "      <th>screen_name</th>\n",
       "      <th>followers_count</th>\n",
       "      <th>friends_count</th>\n",
       "      <th>possibly_sensitive</th>\n",
       "      <th>hashtags</th>\n",
       "      <th>user_mentions</th>\n",
       "      <th>location</th>\n",
       "    </tr>\n",
       "  </thead>\n",
       "  <tbody>\n",
       "    <tr>\n",
       "      <th>0</th>\n",
       "      <td>2022-08-03 20:19:13+00:00</td>\n",
       "      <td>Twitter for Android</td>\n",
       "      <td>pelosi airplane landed safely taiwan amp playi...</td>\n",
       "      <td>1</td>\n",
       "      <td>0.300000</td>\n",
       "      <td>0.203571</td>\n",
       "      <td>en</td>\n",
       "      <td>888</td>\n",
       "      <td>0</td>\n",
       "      <td>0</td>\n",
       "      <td>DzCritical</td>\n",
       "      <td>318</td>\n",
       "      <td>373</td>\n",
       "      <td>False</td>\n",
       "      <td>Pelosi</td>\n",
       "      <td></td>\n",
       "      <td>Algérie</td>\n",
       "    </tr>\n",
       "    <tr>\n",
       "      <th>1</th>\n",
       "      <td>2022-08-02 15:24:42+00:00</td>\n",
       "      <td>Twitter Web App</td>\n",
       "      <td>watch video beginning chinese bombing taiwan p...</td>\n",
       "      <td>-1</td>\n",
       "      <td>0.000000</td>\n",
       "      <td>0.000000</td>\n",
       "      <td>en</td>\n",
       "      <td>1597</td>\n",
       "      <td>3</td>\n",
       "      <td>0</td>\n",
       "      <td>toopsat</td>\n",
       "      <td>764</td>\n",
       "      <td>144</td>\n",
       "      <td>False</td>\n",
       "      <td>Pelosi</td>\n",
       "      <td></td>\n",
       "      <td></td>\n",
       "    </tr>\n",
       "    <tr>\n",
       "      <th>2</th>\n",
       "      <td>2022-08-02 15:02:35+00:00</td>\n",
       "      <td>Twitter for Android</td>\n",
       "      <td>pelosi taipei taiwan xijinping china verge ano...</td>\n",
       "      <td>-1</td>\n",
       "      <td>0.000000</td>\n",
       "      <td>0.000000</td>\n",
       "      <td>en</td>\n",
       "      <td>2293</td>\n",
       "      <td>2</td>\n",
       "      <td>0</td>\n",
       "      <td>NassimaLilEmy</td>\n",
       "      <td>64</td>\n",
       "      <td>47</td>\n",
       "      <td>False</td>\n",
       "      <td>Pelosi</td>\n",
       "      <td></td>\n",
       "      <td>Algérie</td>\n",
       "    </tr>\n",
       "    <tr>\n",
       "      <th>3</th>\n",
       "      <td>2022-08-01 13:51:42+00:00</td>\n",
       "      <td>Twitter for Android</td>\n",
       "      <td>hobipalooza laacademiaexpulsion weuro jhopeatl...</td>\n",
       "      <td>1</td>\n",
       "      <td>0.433333</td>\n",
       "      <td>0.733333</td>\n",
       "      <td>en</td>\n",
       "      <td>44</td>\n",
       "      <td>0</td>\n",
       "      <td>0</td>\n",
       "      <td>d_dhayae</td>\n",
       "      <td>60</td>\n",
       "      <td>463</td>\n",
       "      <td>False</td>\n",
       "      <td>HOBIPALOOZA</td>\n",
       "      <td></td>\n",
       "      <td>Chlef</td>\n",
       "    </tr>\n",
       "    <tr>\n",
       "      <th>4</th>\n",
       "      <td>2022-07-31 20:02:20+00:00</td>\n",
       "      <td>Twitter for Android</td>\n",
       "      <td>pelosi china china time httpstcotedjztlszu</td>\n",
       "      <td>-1</td>\n",
       "      <td>0.000000</td>\n",
       "      <td>0.000000</td>\n",
       "      <td>en</td>\n",
       "      <td>1313</td>\n",
       "      <td>2</td>\n",
       "      <td>0</td>\n",
       "      <td>Mohamme65404115</td>\n",
       "      <td>39</td>\n",
       "      <td>206</td>\n",
       "      <td>False</td>\n",
       "      <td>Pelosi</td>\n",
       "      <td></td>\n",
       "      <td>Algérie</td>\n",
       "    </tr>\n",
       "  </tbody>\n",
       "</table>\n",
       "</div>"
      ],
      "text/plain": [
       "                  created_at               source  \\\n",
       "0  2022-08-03 20:19:13+00:00  Twitter for Android   \n",
       "1  2022-08-02 15:24:42+00:00      Twitter Web App   \n",
       "2  2022-08-02 15:02:35+00:00  Twitter for Android   \n",
       "3  2022-08-01 13:51:42+00:00  Twitter for Android   \n",
       "4  2022-07-31 20:02:20+00:00  Twitter for Android   \n",
       "\n",
       "                                           full_text  sentiment  polarity  \\\n",
       "0  pelosi airplane landed safely taiwan amp playi...          1  0.300000   \n",
       "1  watch video beginning chinese bombing taiwan p...         -1  0.000000   \n",
       "2  pelosi taipei taiwan xijinping china verge ano...         -1  0.000000   \n",
       "3  hobipalooza laacademiaexpulsion weuro jhopeatl...          1  0.433333   \n",
       "4         pelosi china china time httpstcotedjztlszu         -1  0.000000   \n",
       "\n",
       "   subjectivity lang  statuses_count  favorite_count  retweet_count  \\\n",
       "0      0.203571   en             888               0              0   \n",
       "1      0.000000   en            1597               3              0   \n",
       "2      0.000000   en            2293               2              0   \n",
       "3      0.733333   en              44               0              0   \n",
       "4      0.000000   en            1313               2              0   \n",
       "\n",
       "       screen_name  followers_count  friends_count  possibly_sensitive  \\\n",
       "0       DzCritical              318            373               False   \n",
       "1          toopsat              764            144               False   \n",
       "2    NassimaLilEmy               64             47               False   \n",
       "3         d_dhayae               60            463               False   \n",
       "4  Mohamme65404115               39            206               False   \n",
       "\n",
       "      hashtags user_mentions                        location  \n",
       "0       Pelosi                                       Algérie  \n",
       "1       Pelosi                                                \n",
       "2       Pelosi                                       Algérie  \n",
       "3  HOBIPALOOZA                Chlef                           \n",
       "4       Pelosi                                       Algérie  "
      ]
     },
     "execution_count": 4,
     "metadata": {},
     "output_type": "execute_result"
    }
   ],
   "source": [
    "tweets = pd.read_csv('../data/cleaned_africa_data.csv')\n",
    "tweets.head()"
   ]
  },
  {
   "cell_type": "code",
   "execution_count": 5,
   "id": "c1cb4eed",
   "metadata": {},
   "outputs": [
    {
     "name": "stdout",
     "output_type": "stream",
     "text": [
      "<class 'pandas.core.frame.DataFrame'>\n",
      "RangeIndex: 6735 entries, 0 to 6734\n",
      "Data columns (total 17 columns):\n",
      " #   Column              Non-Null Count  Dtype  \n",
      "---  ------              --------------  -----  \n",
      " 0   created_at          6735 non-null   object \n",
      " 1   source              6735 non-null   object \n",
      " 2   full_text           6735 non-null   object \n",
      " 3   sentiment           6735 non-null   int64  \n",
      " 4   polarity            6735 non-null   float64\n",
      " 5   subjectivity        6735 non-null   float64\n",
      " 6   lang                6735 non-null   object \n",
      " 7   statuses_count      6735 non-null   int64  \n",
      " 8   favorite_count      6735 non-null   int64  \n",
      " 9   retweet_count       6735 non-null   int64  \n",
      " 10  screen_name         6735 non-null   object \n",
      " 11  followers_count     6735 non-null   int64  \n",
      " 12  friends_count       6735 non-null   int64  \n",
      " 13  possibly_sensitive  6735 non-null   bool   \n",
      " 14  hashtags            6735 non-null   object \n",
      " 15  user_mentions       6735 non-null   object \n",
      " 16  location            6735 non-null   object \n",
      "dtypes: bool(1), float64(2), int64(6), object(8)\n",
      "memory usage: 848.6+ KB\n"
     ]
    }
   ],
   "source": [
    "#To get information about the data\n",
    "tweets.info()"
   ]
  },
  {
   "cell_type": "code",
   "execution_count": 6,
   "id": "72496c60",
   "metadata": {},
   "outputs": [
    {
     "data": {
      "text/plain": [
       "(6735, 17)"
      ]
     },
     "execution_count": 6,
     "metadata": {},
     "output_type": "execute_result"
    }
   ],
   "source": [
    "tweets.shape"
   ]
  },
  {
   "cell_type": "code",
   "execution_count": 7,
   "id": "87a68a86",
   "metadata": {},
   "outputs": [
    {
     "name": "stdout",
     "output_type": "stream",
     "text": [
      "The number of missing value(s): 0\n",
      "Columns having missing value(s):Index([], dtype='object')\n"
     ]
    }
   ],
   "source": [
    "# print(\"The number of missing value(s) based on columns:\\n{}\".format(tweets.isnull().sum()))\n",
    "print(\"The number of missing value(s): {}\".format(tweets.isnull().sum().sum()))\n",
    "print(\"Columns having missing value(s):{}\".format(tweets.columns[tweets.isnull().any()]))"
   ]
  },
  {
   "cell_type": "code",
   "execution_count": 8,
   "id": "3cb077b7",
   "metadata": {},
   "outputs": [],
   "source": [
    "# Form a new data frame (named cleanTweet), containing columns  𝐜𝐥𝐞𝐚𝐧-𝐭𝐞𝐱𝐭  and  𝐩𝐨𝐥𝐚𝐫𝐢𝐭𝐲 .\n",
    "clean_tweet = pd.DataFrame(columns=['full_text','polarity'])\n",
    "clean_tweet['full_text'] =  tweets['full_text'].to_list()\n",
    "clean_tweet['polarity'] =  tweets['polarity'].to_list()"
   ]
  },
  {
   "cell_type": "code",
   "execution_count": 9,
   "id": "296fd55c",
   "metadata": {},
   "outputs": [],
   "source": [
    "sys.path.append(os.path.abspath(os.path.join('../scripts')))"
   ]
  },
  {
   "cell_type": "code",
   "execution_count": 10,
   "id": "9722f653",
   "metadata": {},
   "outputs": [
    {
     "name": "stdout",
     "output_type": "stream",
     "text": [
      "<class 'pandas.core.frame.DataFrame'>\n",
      "RangeIndex: 6735 entries, 0 to 6734\n",
      "Data columns (total 2 columns):\n",
      " #   Column     Non-Null Count  Dtype  \n",
      "---  ------     --------------  -----  \n",
      " 0   full_text  6735 non-null   object \n",
      " 1   polarity   6735 non-null   float64\n",
      "dtypes: float64(1), object(1)\n",
      "memory usage: 105.4+ KB\n"
     ]
    }
   ],
   "source": [
    "clean_tweet.info()"
   ]
  },
  {
   "cell_type": "code",
   "execution_count": 11,
   "id": "e93cc314",
   "metadata": {},
   "outputs": [],
   "source": [
    "#  a function text_category that takes a value 'p' and returns, \n",
    "# depending on the value of p, a string 'positive', 'negative' or 'neutral'.\n",
    "def text_category(p:float)->str:\n",
    "    if(p > 0):\n",
    "        return \"positive\"\n",
    "    elif(p < 0):\n",
    "        return \"negative\"\n",
    "    else:\n",
    "        return \"neutral\""
   ]
  },
  {
   "cell_type": "code",
   "execution_count": 14,
   "id": "994eb40d",
   "metadata": {},
   "outputs": [
    {
     "data": {
      "text/html": [
       "<div>\n",
       "<style scoped>\n",
       "    .dataframe tbody tr th:only-of-type {\n",
       "        vertical-align: middle;\n",
       "    }\n",
       "\n",
       "    .dataframe tbody tr th {\n",
       "        vertical-align: top;\n",
       "    }\n",
       "\n",
       "    .dataframe thead th {\n",
       "        text-align: right;\n",
       "    }\n",
       "</style>\n",
       "<table border=\"1\" class=\"dataframe\">\n",
       "  <thead>\n",
       "    <tr style=\"text-align: right;\">\n",
       "      <th></th>\n",
       "      <th>full_text</th>\n",
       "      <th>polarity</th>\n",
       "      <th>score</th>\n",
       "    </tr>\n",
       "  </thead>\n",
       "  <tbody>\n",
       "    <tr>\n",
       "      <th>0</th>\n",
       "      <td>pelosi airplane landed safely taiwan amp playi...</td>\n",
       "      <td>0.300000</td>\n",
       "      <td>positive</td>\n",
       "    </tr>\n",
       "    <tr>\n",
       "      <th>1</th>\n",
       "      <td>watch video beginning chinese bombing taiwan p...</td>\n",
       "      <td>0.000000</td>\n",
       "      <td>neutral</td>\n",
       "    </tr>\n",
       "    <tr>\n",
       "      <th>2</th>\n",
       "      <td>pelosi taipei taiwan xijinping china verge ano...</td>\n",
       "      <td>0.000000</td>\n",
       "      <td>neutral</td>\n",
       "    </tr>\n",
       "    <tr>\n",
       "      <th>3</th>\n",
       "      <td>hobipalooza laacademiaexpulsion weuro jhopeatl...</td>\n",
       "      <td>0.433333</td>\n",
       "      <td>positive</td>\n",
       "    </tr>\n",
       "    <tr>\n",
       "      <th>4</th>\n",
       "      <td>pelosi china china time httpstcotedjztlszu</td>\n",
       "      <td>0.000000</td>\n",
       "      <td>neutral</td>\n",
       "    </tr>\n",
       "    <tr>\n",
       "      <th>5</th>\n",
       "      <td>v intro logo animation blue smoke looking prof...</td>\n",
       "      <td>0.169841</td>\n",
       "      <td>positive</td>\n",
       "    </tr>\n",
       "    <tr>\n",
       "      <th>6</th>\n",
       "      <td>twinning afro space senorita countdown days go...</td>\n",
       "      <td>0.000000</td>\n",
       "      <td>neutral</td>\n",
       "    </tr>\n",
       "    <tr>\n",
       "      <th>7</th>\n",
       "      <td>youre missing shes far taiwan couplegoals http...</td>\n",
       "      <td>-0.050000</td>\n",
       "      <td>negative</td>\n",
       "    </tr>\n",
       "    <tr>\n",
       "      <th>8</th>\n",
       "      <td>chinas mortgage crisis banks failing protests ...</td>\n",
       "      <td>0.000000</td>\n",
       "      <td>neutral</td>\n",
       "    </tr>\n",
       "    <tr>\n",
       "      <th>9</th>\n",
       "      <td>twitter make laugh scared pelosi taiwan visit</td>\n",
       "      <td>0.300000</td>\n",
       "      <td>positive</td>\n",
       "    </tr>\n",
       "  </tbody>\n",
       "</table>\n",
       "</div>"
      ],
      "text/plain": [
       "                                           full_text  polarity     score\n",
       "0  pelosi airplane landed safely taiwan amp playi...  0.300000  positive\n",
       "1  watch video beginning chinese bombing taiwan p...  0.000000   neutral\n",
       "2  pelosi taipei taiwan xijinping china verge ano...  0.000000   neutral\n",
       "3  hobipalooza laacademiaexpulsion weuro jhopeatl...  0.433333  positive\n",
       "4         pelosi china china time httpstcotedjztlszu  0.000000   neutral\n",
       "5  v intro logo animation blue smoke looking prof...  0.169841  positive\n",
       "6  twinning afro space senorita countdown days go...  0.000000   neutral\n",
       "7  youre missing shes far taiwan couplegoals http... -0.050000  negative\n",
       "8  chinas mortgage crisis banks failing protests ...  0.000000   neutral\n",
       "9      twitter make laugh scared pelosi taiwan visit  0.300000  positive"
      ]
     },
     "execution_count": 14,
     "metadata": {},
     "output_type": "execute_result"
    }
   ],
   "source": [
    "clean_tweet['score'] = clean_tweet['polarity'].apply(text_category)\n",
    "clean_tweet.head(10)"
   ]
  },
  {
   "cell_type": "code",
   "execution_count": 15,
   "id": "39b8c273",
   "metadata": {},
   "outputs": [
    {
     "data": {
      "text/plain": [
       "<AxesSubplot:>"
      ]
     },
     "execution_count": 15,
     "metadata": {},
     "output_type": "execute_result"
    },
    {
     "data": {
      "image/png": "[encoded data removed]",
      "text/plain": [
       "<Figure size 432x288 with 1 Axes>"
      ]
     },
     "metadata": {
      "needs_background": "light"
     },
     "output_type": "display_data"
    }
   ],
   "source": [
    "# ploting score using bar presentation\n",
    "clean_tweet['score'].value_counts().plot(kind='bar')"
   ]
  },
  {
   "cell_type": "code",
   "execution_count": 16,
   "id": "baa8453f",
   "metadata": {},
   "outputs": [
    {
     "data": {
      "text/plain": [
       "<AxesSubplot:ylabel='score'>"
      ]
     },
     "execution_count": 16,
     "metadata": {},
     "output_type": "execute_result"
    },
    {
     "data": {
      "image/png": "[encoded data removed]",
      "text/plain": [
       "<Figure size 432x288 with 1 Axes>"
      ]
     },
     "metadata": {},
     "output_type": "display_data"
    }
   ],
   "source": [
    "# ploting score using pie chart presentation\n",
    "clean_tweet['score'].value_counts().plot(kind='pie')"
   ]
  },
  {
   "cell_type": "code",
   "execution_count": 17,
   "id": "9eca9f68",
   "metadata": {},
   "outputs": [
    {
     "data": {
      "text/html": [
       "<div>\n",
       "<style scoped>\n",
       "    .dataframe tbody tr th:only-of-type {\n",
       "        vertical-align: middle;\n",
       "    }\n",
       "\n",
       "    .dataframe tbody tr th {\n",
       "        vertical-align: top;\n",
       "    }\n",
       "\n",
       "    .dataframe thead th {\n",
       "        text-align: right;\n",
       "    }\n",
       "</style>\n",
       "<table border=\"1\" class=\"dataframe\">\n",
       "  <thead>\n",
       "    <tr style=\"text-align: right;\">\n",
       "      <th></th>\n",
       "      <th>full_text</th>\n",
       "      <th>polarity</th>\n",
       "      <th>score</th>\n",
       "    </tr>\n",
       "  </thead>\n",
       "  <tbody>\n",
       "    <tr>\n",
       "      <th>0</th>\n",
       "      <td>pelosi airplane landed safely taiwan amp playi...</td>\n",
       "      <td>0.300000</td>\n",
       "      <td>positive</td>\n",
       "    </tr>\n",
       "    <tr>\n",
       "      <th>1</th>\n",
       "      <td>hobipalooza laacademiaexpulsion weuro jhopeatl...</td>\n",
       "      <td>0.433333</td>\n",
       "      <td>positive</td>\n",
       "    </tr>\n",
       "    <tr>\n",
       "      <th>2</th>\n",
       "      <td>v intro logo animation blue smoke looking prof...</td>\n",
       "      <td>0.169841</td>\n",
       "      <td>positive</td>\n",
       "    </tr>\n",
       "    <tr>\n",
       "      <th>3</th>\n",
       "      <td>youre missing shes far taiwan couplegoals http...</td>\n",
       "      <td>-0.050000</td>\n",
       "      <td>negative</td>\n",
       "    </tr>\n",
       "    <tr>\n",
       "      <th>4</th>\n",
       "      <td>twitter make laugh scared pelosi taiwan visit</td>\n",
       "      <td>0.300000</td>\n",
       "      <td>positive</td>\n",
       "    </tr>\n",
       "  </tbody>\n",
       "</table>\n",
       "</div>"
      ],
      "text/plain": [
       "                                           full_text  polarity     score\n",
       "0  pelosi airplane landed safely taiwan amp playi...  0.300000  positive\n",
       "1  hobipalooza laacademiaexpulsion weuro jhopeatl...  0.433333  positive\n",
       "2  v intro logo animation blue smoke looking prof...  0.169841  positive\n",
       "3  youre missing shes far taiwan couplegoals http... -0.050000  negative\n",
       "4      twitter make laugh scared pelosi taiwan visit  0.300000  positive"
      ]
     },
     "execution_count": 17,
     "metadata": {},
     "output_type": "execute_result"
    }
   ],
   "source": [
    "# Remove rows from cleanTweet where  𝐩𝐨𝐥𝐚𝐫𝐢𝐭𝐲=0  \n",
    "# (i.e where  𝐬𝐜𝐨𝐫𝐞  = Neutral) and reset the frame index.\n",
    "clean_tweet.drop(clean_tweet[clean_tweet['score']==\"neutral\"].index, inplace=True)\n",
    "clean_tweet.reset_index(drop=True, inplace=True)\n",
    "clean_tweet.head()"
   ]
  },
  {
   "cell_type": "code",
   "execution_count": 18,
   "id": "fcd74f2f",
   "metadata": {},
   "outputs": [],
   "source": [
    "# Construct a column  𝐬𝐜𝐨𝐫𝐞𝐦𝐚𝐩  Use the mapping \n",
    "# {'positive':1, 'negative':0} on the  𝐬𝐜𝐨𝐫𝐞  column\n",
    "def scoremap_category(score:str)->int:\n",
    "    if(score == \"positive\"):\n",
    "        return 1\n",
    "    else:\n",
    "        return 0"
   ]
  },
  {
   "cell_type": "code",
   "execution_count": 19,
   "id": "0216e9dc",
   "metadata": {},
   "outputs": [
    {
     "data": {
      "text/html": [
       "<div>\n",
       "<style scoped>\n",
       "    .dataframe tbody tr th:only-of-type {\n",
       "        vertical-align: middle;\n",
       "    }\n",
       "\n",
       "    .dataframe tbody tr th {\n",
       "        vertical-align: top;\n",
       "    }\n",
       "\n",
       "    .dataframe thead th {\n",
       "        text-align: right;\n",
       "    }\n",
       "</style>\n",
       "<table border=\"1\" class=\"dataframe\">\n",
       "  <thead>\n",
       "    <tr style=\"text-align: right;\">\n",
       "      <th></th>\n",
       "      <th>full_text</th>\n",
       "      <th>polarity</th>\n",
       "      <th>score</th>\n",
       "      <th>scoremap</th>\n",
       "    </tr>\n",
       "  </thead>\n",
       "  <tbody>\n",
       "    <tr>\n",
       "      <th>0</th>\n",
       "      <td>pelosi airplane landed safely taiwan amp playi...</td>\n",
       "      <td>0.300000</td>\n",
       "      <td>positive</td>\n",
       "      <td>1</td>\n",
       "    </tr>\n",
       "    <tr>\n",
       "      <th>1</th>\n",
       "      <td>hobipalooza laacademiaexpulsion weuro jhopeatl...</td>\n",
       "      <td>0.433333</td>\n",
       "      <td>positive</td>\n",
       "      <td>1</td>\n",
       "    </tr>\n",
       "    <tr>\n",
       "      <th>2</th>\n",
       "      <td>v intro logo animation blue smoke looking prof...</td>\n",
       "      <td>0.169841</td>\n",
       "      <td>positive</td>\n",
       "      <td>1</td>\n",
       "    </tr>\n",
       "    <tr>\n",
       "      <th>3</th>\n",
       "      <td>youre missing shes far taiwan couplegoals http...</td>\n",
       "      <td>-0.050000</td>\n",
       "      <td>negative</td>\n",
       "      <td>0</td>\n",
       "    </tr>\n",
       "    <tr>\n",
       "      <th>4</th>\n",
       "      <td>twitter make laugh scared pelosi taiwan visit</td>\n",
       "      <td>0.300000</td>\n",
       "      <td>positive</td>\n",
       "      <td>1</td>\n",
       "    </tr>\n",
       "  </tbody>\n",
       "</table>\n",
       "</div>"
      ],
      "text/plain": [
       "                                           full_text  polarity     score  \\\n",
       "0  pelosi airplane landed safely taiwan amp playi...  0.300000  positive   \n",
       "1  hobipalooza laacademiaexpulsion weuro jhopeatl...  0.433333  positive   \n",
       "2  v intro logo animation blue smoke looking prof...  0.169841  positive   \n",
       "3  youre missing shes far taiwan couplegoals http... -0.050000  negative   \n",
       "4      twitter make laugh scared pelosi taiwan visit  0.300000  positive   \n",
       "\n",
       "   scoremap  \n",
       "0         1  \n",
       "1         1  \n",
       "2         1  \n",
       "3         0  \n",
       "4         1  "
      ]
     },
     "execution_count": 19,
     "metadata": {},
     "output_type": "execute_result"
    }
   ],
   "source": [
    "clean_tweet['scoremap'] = clean_tweet['score'].apply(scoremap_category)\n",
    "clean_tweet.head()"
   ]
  },
  {
   "cell_type": "code",
   "execution_count": 20,
   "id": "58667dd6",
   "metadata": {},
   "outputs": [
    {
     "data": {
      "text/plain": [
       "<AxesSubplot:>"
      ]
     },
     "execution_count": 20,
     "metadata": {},
     "output_type": "execute_result"
    },
    {
     "data": {
      "image/png": "[encoded data removed]",
      "text/plain": [
       "<Figure size 432x288 with 1 Axes>"
      ]
     },
     "metadata": {
      "needs_background": "light"
     },
     "output_type": "display_data"
    }
   ],
   "source": [
    "clean_tweet['score'].value_counts().plot(kind='bar')"
   ]
  },
  {
   "cell_type": "code",
   "execution_count": 21,
   "id": "1aa3f422",
   "metadata": {},
   "outputs": [
    {
     "data": {
      "text/plain": [
       "<AxesSubplot:ylabel='score'>"
      ]
     },
     "execution_count": 21,
     "metadata": {},
     "output_type": "execute_result"
    },
    {
     "data": {
      "image/png": "[encoded data removed]",
      "text/plain": [
       "<Figure size 432x288 with 1 Axes>"
      ]
     },
     "metadata": {},
     "output_type": "display_data"
    }
   ],
   "source": [
    "clean_tweet['score'].value_counts().plot(kind='pie')"
   ]
  }
 ],
 "metadata": {
  "kernelspec": {
   "display_name": "Python 3 (ipykernel)",
   "language": "python",
   "name": "python3"
  },
  "language_info": {
   "codemirror_mode": {
    "name": "ipython",
    "version": 3
   },
   "file_extension": ".py",
   "mimetype": "text/x-python",
   "name": "python",
   "nbconvert_exporter": "python",
   "pygments_lexer": "ipython3",
   "version": "3.9.12"
  }
 },
 "nbformat": 4,
 "nbformat_minor": 5
}
